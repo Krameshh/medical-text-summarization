{
  "nbformat": 4,
  "nbformat_minor": 0,
  "metadata": {
    "colab": {
      "name": "Medical Summarization Test.ipynb",
      "provenance": [],
      "collapsed_sections": []
    },
    "kernelspec": {
      "name": "python3",
      "display_name": "Python 3"
    },
    "language_info": {
      "name": "python"
    }
  },
  "cells": [
    {
      "cell_type": "markdown",
      "source": [
        "##Beautifying Component for wrapping text in jupyter notebook"
      ],
      "metadata": {
        "id": "8KTZxDCzIBZY"
      }
    },
    {
      "cell_type": "code",
      "source": [
        "from IPython.display import HTML, display\n",
        "\n",
        "def set_css():\n",
        "  display(HTML('''\n",
        "  <style>\n",
        "    pre {\n",
        "        white-space: pre-wrap;\n",
        "    }\n",
        "  </style>\n",
        "  '''))\n",
        "get_ipython().events.register('pre_run_cell', set_css)"
      ],
      "metadata": {
        "id": "aVwHGprMH1av"
      },
      "execution_count": 6,
      "outputs": []
    },
    {
      "cell_type": "markdown",
      "source": [
        "#Starter Code\n",
        "\n",
        "Credit for starter code from: https://towardsdatascience.com/summarizing-medical-documents-with-nlp-85b14e4d9411  "
      ],
      "metadata": {
        "id": "bEAZsdZxIPcC"
      }
    },
    {
      "cell_type": "markdown",
      "source": [
        "##Library imports \n",
        "\n",
        "Using Spacy Library for sentence-relevance calculation and text pre-processing"
      ],
      "metadata": {
        "id": "WRybhVeTIe3P"
      }
    },
    {
      "cell_type": "code",
      "source": [
        "import spacy\n",
        "import textwrap\n",
        "from spacy.lang.en.stop_words import STOP_WORDS\n",
        "from string import punctuation\n",
        "from heapq import nlargest\n",
        "punctuation += '\\n' \n",
        "stopwords = list(STOP_WORDS)\n",
        "\n",
        "reduction_rate = 0.1  #defines how small the output summary should be compared with the input"
      ],
      "metadata": {
        "colab": {
          "base_uri": "https://localhost:8080/",
          "height": 17
        },
        "id": "9JcnPUAAIV5r",
        "outputId": "852368a3-a5bc-4150-94bd-2844b0c7e0f0"
      },
      "execution_count": 10,
      "outputs": [
        {
          "output_type": "display_data",
          "data": {
            "text/plain": [
              "<IPython.core.display.HTML object>"
            ],
            "text/html": [
              "\n",
              "  <style>\n",
              "    pre {\n",
              "        white-space: pre-wrap;\n",
              "    }\n",
              "  </style>\n",
              "  "
            ]
          },
          "metadata": {}
        }
      ]
    },
    {
      "cell_type": "code",
      "execution_count": 11,
      "metadata": {
        "colab": {
          "base_uri": "https://localhost:8080/",
          "height": 17
        },
        "id": "mFWeAhn5HTeK",
        "outputId": "ee10d7b9-ce33-43d8-964d-9e286c5f8621"
      },
      "outputs": [
        {
          "output_type": "display_data",
          "data": {
            "text/plain": [
              "<IPython.core.display.HTML object>"
            ],
            "text/html": [
              "\n",
              "  <style>\n",
              "    pre {\n",
              "        white-space: pre-wrap;\n",
              "    }\n",
              "  </style>\n",
              "  "
            ]
          },
          "metadata": {}
        }
      ],
      "source": [
        "text = \"\"\"I saw ABC back in Neuro-Oncology Clinic today. He comes in for an urgent visit because of increasing questions about what to do next for his anaplastic astrocytoma.\n",
        "Within the last several days, he has seen you in clinic and once again discussed whether or not to undergo radiation for his left temporal lesion. The patient has clearly been extremely ambivalent about this therapy for reasons that are not immediately apparent. It is clear that his MRI is progressing and that it seems unlikely at this time that anything other than radiation would be particularly effective. Despite repeatedly emphasizing this; however, the patient still is worried about potential long-term side effects from treatment that frankly seem unwarranted at this particular time.\n",
        "After seeing you in clinic, he and his friend again wanted to discuss possible changes in the chemotherapy regimen. They came in with a list of eight possible agents that they would like to be administered within the next two weeks. They then wanted another MRI to be performed and they were hoping that with the use of this type of approach, they might be able to induce another remission from which he can once again be spared radiation.\n",
        "From my view, I noticed a man whose language has deteriorated in the week since I last saw him. This is very worrisome. Today, for the first time, I felt that there was a definite right facial droop as well. Therefore, there is no doubt that he is becoming symptomatic from his growing tumor. It suggests that he is approaching the end of his compliance curve and that the things may rapidly deteriorate in the near future.\n",
        "Emphasizing this once again, in addition, to recommending steroids I once again tried to convince him to undergo radiation. Despite an hour, this again amazingly was not possible. It is not that he does not want treatment, however. Because I told him that I did not feel it was ethical to just put him on the radical regimen that him and his friend devised, we compromised and elected to go back to Temodar in a low dose daily type regimen. We would plan on giving 75 mg/sq m everyday for 21 days out of 28 days. In addition, we will stop thalidomide 100 mg/day. If he tolerates this for one week, we then agree that we would institute another one of the medications that he listed for us. At this stage, we are thinking of using Accutane at that point.\n",
        "While I am very uncomfortable with this type of approach, I think as long as he is going to be monitored closely that we may be able to get away with this for at least a reasonable interval. In the spirit of compromise, he again consented to be evaluated by radiation and this time, seemed more resigned to the fact that it was going to happen sooner than later. I will look at this as a positive sign because I think radiation is the one therapy from which he can get a reasonable response in the long term.\n",
        "I will keep you apprised of followups. If you have any questions or if I could be of any further assistance, feel free to contact me.\"\"\""
      ]
    },
    {
      "cell_type": "code",
      "source": [
        "nlp_pl = spacy.load('en_core_web_sm')     #process original text according with the Spacy nlp pipeline for english\n",
        "document = nlp_pl(text)                   #doc object\n",
        "\n",
        "tokens = [token.text for token in document] #tokenized text\n",
        "\n",
        "word_frequencies = {}\n",
        "for word in document:\n",
        "    if word.text.lower() not in stopwords:\n",
        "        if word.text.lower() not in punctuation:\n",
        "            if word.text not in word_frequencies.keys():\n",
        "                word_frequencies[word.text] = 1\n",
        "            else:\n",
        "                word_frequencies[word.text] += 1\n",
        "\n",
        "max_frequency = max(word_frequencies.values())\n",
        "print(max_frequency)\n",
        "\n",
        "for word in word_frequencies.keys():\n",
        "    word_frequencies[word] = word_frequencies[word]/max_frequency\n",
        "\n",
        "print(word_frequencies)"
      ],
      "metadata": {
        "colab": {
          "base_uri": "https://localhost:8080/",
          "height": 493
        },
        "id": "UXYVBjgtHcI3",
        "outputId": "22fcdf7d-97cc-4772-9c87-5594b7df67fa"
      },
      "execution_count": 12,
      "outputs": [
        {
          "output_type": "display_data",
          "data": {
            "text/plain": [
              "<IPython.core.display.HTML object>"
            ],
            "text/html": [
              "\n",
              "  <style>\n",
              "    pre {\n",
              "        white-space: pre-wrap;\n",
              "    }\n",
              "  </style>\n",
              "  "
            ]
          },
          "metadata": {}
        },
        {
          "output_type": "stream",
          "name": "stdout",
          "text": [
            "6\n",
            "{'saw': 0.3333333333333333, 'ABC': 0.16666666666666666, 'Neuro': 0.16666666666666666, 'Oncology': 0.16666666666666666, 'Clinic': 0.16666666666666666, 'today': 0.16666666666666666, 'comes': 0.16666666666666666, 'urgent': 0.16666666666666666, 'visit': 0.16666666666666666, 'increasing': 0.16666666666666666, 'questions': 0.3333333333333333, 'anaplastic': 0.16666666666666666, 'astrocytoma': 0.16666666666666666, 'days': 0.5, 'seen': 0.16666666666666666, 'clinic': 0.3333333333333333, 'discussed': 0.16666666666666666, 'undergo': 0.3333333333333333, 'radiation': 1.0, 'left': 0.16666666666666666, 'temporal': 0.16666666666666666, 'lesion': 0.16666666666666666, 'patient': 0.3333333333333333, 'clearly': 0.16666666666666666, 'extremely': 0.16666666666666666, 'ambivalent': 0.16666666666666666, 'therapy': 0.3333333333333333, 'reasons': 0.16666666666666666, 'immediately': 0.16666666666666666, 'apparent': 0.16666666666666666, 'clear': 0.16666666666666666, 'MRI': 0.3333333333333333, 'progressing': 0.16666666666666666, 'unlikely': 0.16666666666666666, 'time': 0.6666666666666666, 'particularly': 0.16666666666666666, 'effective': 0.16666666666666666, 'Despite': 0.3333333333333333, 'repeatedly': 0.16666666666666666, 'emphasizing': 0.16666666666666666, 'worried': 0.16666666666666666, 'potential': 0.16666666666666666, 'long': 0.5, 'term': 0.3333333333333333, 'effects': 0.16666666666666666, 'treatment': 0.3333333333333333, 'frankly': 0.16666666666666666, 'unwarranted': 0.16666666666666666, 'particular': 0.16666666666666666, 'seeing': 0.16666666666666666, 'friend': 0.3333333333333333, 'wanted': 0.3333333333333333, 'discuss': 0.16666666666666666, 'possible': 0.5, 'changes': 0.16666666666666666, 'chemotherapy': 0.16666666666666666, 'regimen': 0.5, 'came': 0.16666666666666666, 'list': 0.16666666666666666, 'agents': 0.16666666666666666, 'like': 0.16666666666666666, 'administered': 0.16666666666666666, 'weeks': 0.16666666666666666, 'performed': 0.16666666666666666, 'hoping': 0.16666666666666666, 'use': 0.16666666666666666, 'type': 0.5, 'approach': 0.3333333333333333, 'able': 0.3333333333333333, 'induce': 0.16666666666666666, 'remission': 0.16666666666666666, 'spared': 0.16666666666666666, 'view': 0.16666666666666666, 'noticed': 0.16666666666666666, 'man': 0.16666666666666666, 'language': 0.16666666666666666, 'deteriorated': 0.16666666666666666, 'week': 0.3333333333333333, 'worrisome': 0.16666666666666666, 'Today': 0.16666666666666666, 'felt': 0.16666666666666666, 'definite': 0.16666666666666666, 'right': 0.16666666666666666, 'facial': 0.16666666666666666, 'droop': 0.16666666666666666, 'doubt': 0.16666666666666666, 'symptomatic': 0.16666666666666666, 'growing': 0.16666666666666666, 'tumor': 0.16666666666666666, 'suggests': 0.16666666666666666, 'approaching': 0.16666666666666666, 'end': 0.16666666666666666, 'compliance': 0.16666666666666666, 'curve': 0.16666666666666666, 'things': 0.16666666666666666, 'rapidly': 0.16666666666666666, 'deteriorate': 0.16666666666666666, 'near': 0.16666666666666666, 'future': 0.16666666666666666, 'Emphasizing': 0.16666666666666666, 'addition': 0.3333333333333333, 'recommending': 0.16666666666666666, 'steroids': 0.16666666666666666, 'tried': 0.16666666666666666, 'convince': 0.16666666666666666, 'hour': 0.16666666666666666, 'amazingly': 0.16666666666666666, 'want': 0.16666666666666666, 'told': 0.16666666666666666, 'feel': 0.3333333333333333, 'ethical': 0.16666666666666666, 'radical': 0.16666666666666666, 'devised': 0.16666666666666666, 'compromised': 0.16666666666666666, 'elected': 0.16666666666666666, 'Temodar': 0.16666666666666666, 'low': 0.16666666666666666, 'dose': 0.16666666666666666, 'daily': 0.16666666666666666, 'plan': 0.16666666666666666, 'giving': 0.16666666666666666, '75': 0.16666666666666666, 'mg': 0.3333333333333333, 'sq': 0.16666666666666666, 'm': 0.16666666666666666, 'everyday': 0.16666666666666666, '21': 0.16666666666666666, '28': 0.16666666666666666, 'stop': 0.16666666666666666, 'thalidomide': 0.16666666666666666, '100': 0.16666666666666666, 'day': 0.16666666666666666, 'tolerates': 0.16666666666666666, 'agree': 0.16666666666666666, 'institute': 0.16666666666666666, 'medications': 0.16666666666666666, 'listed': 0.16666666666666666, 'stage': 0.16666666666666666, 'thinking': 0.16666666666666666, 'Accutane': 0.16666666666666666, 'point': 0.16666666666666666, 'uncomfortable': 0.16666666666666666, 'think': 0.3333333333333333, 'going': 0.3333333333333333, 'monitored': 0.16666666666666666, 'closely': 0.16666666666666666, 'away': 0.16666666666666666, 'reasonable': 0.3333333333333333, 'interval': 0.16666666666666666, 'spirit': 0.16666666666666666, 'compromise': 0.16666666666666666, 'consented': 0.16666666666666666, 'evaluated': 0.16666666666666666, 'resigned': 0.16666666666666666, 'fact': 0.16666666666666666, 'happen': 0.16666666666666666, 'sooner': 0.16666666666666666, 'later': 0.16666666666666666, 'look': 0.16666666666666666, 'positive': 0.16666666666666666, 'sign': 0.16666666666666666, 'response': 0.16666666666666666, 'apprised': 0.16666666666666666, 'followups': 0.16666666666666666, 'assistance': 0.16666666666666666, 'free': 0.16666666666666666, 'contact': 0.16666666666666666}\n"
          ]
        }
      ]
    },
    {
      "cell_type": "code",
      "source": [
        "sentence_tokens = [sent for sent in document.sents]\n",
        "\n",
        "def get_sentence_scores(sentence_tok, len_norm=True):\n",
        "  sentence_scores = {}\n",
        "  for sent in sentence_tok:\n",
        "      word_count = 0\n",
        "      for word in sent:\n",
        "          if word.text.lower() in word_frequencies.keys():\n",
        "              word_count += 1\n",
        "              if sent not in sentence_scores.keys():\n",
        "                  sentence_scores[sent] = word_frequencies[word.text.lower()]\n",
        "              else:\n",
        "                  sentence_scores[sent] += word_frequencies[word.text.lower()]\n",
        "      if len_norm:\n",
        "        sentence_scores[sent] = sentence_scores[sent]/word_count\n",
        "  return sentence_scores\n",
        "                \n",
        "sentence_scores = get_sentence_scores(sentence_tokens,len_norm=False)        #sentence scoring without lenght normalization\n",
        "sentence_scores_rel = get_sentence_scores(sentence_tokens,len_norm=True) "
      ],
      "metadata": {
        "colab": {
          "base_uri": "https://localhost:8080/",
          "height": 17
        },
        "id": "ON0c6-M5HmCM",
        "outputId": "8f4bea51-ec1c-4f04-da30-91fc2576828b"
      },
      "execution_count": 13,
      "outputs": [
        {
          "output_type": "display_data",
          "data": {
            "text/plain": [
              "<IPython.core.display.HTML object>"
            ],
            "text/html": [
              "\n",
              "  <style>\n",
              "    pre {\n",
              "        white-space: pre-wrap;\n",
              "    }\n",
              "  </style>\n",
              "  "
            ]
          },
          "metadata": {}
        }
      ]
    },
    {
      "cell_type": "code",
      "source": [
        "def get_summary(sentence_sc, rate):\n",
        "  summary_length = int(len(sentence_sc)*rate)\n",
        "  summary = nlargest(summary_length, sentence_sc, key = sentence_sc.get)\n",
        "  final_summary = [word.text for word in summary]\n",
        "  summary = ' '.join(final_summary)\n",
        "  return summary\n"
      ],
      "metadata": {
        "colab": {
          "base_uri": "https://localhost:8080/",
          "height": 17
        },
        "id": "4uufDbksHo_Y",
        "outputId": "594feb70-04fa-4e78-edb3-107432e65675"
      },
      "execution_count": 17,
      "outputs": [
        {
          "output_type": "display_data",
          "data": {
            "text/plain": [
              "<IPython.core.display.HTML object>"
            ],
            "text/html": [
              "\n",
              "  <style>\n",
              "    pre {\n",
              "        white-space: pre-wrap;\n",
              "    }\n",
              "  </style>\n",
              "  "
            ]
          },
          "metadata": {}
        }
      ]
    },
    {
      "cell_type": "code",
      "source": [
        "print(\"- NON_REL: \"+ get_summary(sentence_scores, reduction_rate))\n",
        "print(\"\\n\")\n",
        "print(\"- REL: \"+ get_summary(sentence_scores_rel, reduction_rate))"
      ],
      "metadata": {
        "colab": {
          "base_uri": "https://localhost:8080/",
          "height": 119
        },
        "id": "e0roq51MHq6T",
        "outputId": "0537b289-c7a0-487b-9132-f0ce68024848"
      },
      "execution_count": 18,
      "outputs": [
        {
          "output_type": "display_data",
          "data": {
            "text/plain": [
              "<IPython.core.display.HTML object>"
            ],
            "text/html": [
              "\n",
              "  <style>\n",
              "    pre {\n",
              "        white-space: pre-wrap;\n",
              "    }\n",
              "  </style>\n",
              "  "
            ]
          },
          "metadata": {}
        },
        {
          "output_type": "stream",
          "name": "stdout",
          "text": [
            "- NON_REL: Because I told him that I did not feel it was ethical to just put him on the radical regimen that him and his friend devised, we compromised and elected to go back to Temodar in a low dose daily type regimen. I will look at this as a positive sign because I think radiation is the one therapy from which he can get a reasonable response in the long term.\n",
            "\n",
            "\n",
            "- REL: It is clear that his MRI is progressing and that it seems unlikely at this time that anything other than radiation would be particularly effective. I will look at this as a positive sign because I think radiation is the one therapy from which he can get a reasonable response in the long term.\n"
          ]
        }
      ]
    }
  ]
}